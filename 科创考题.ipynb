{
 "cells": [
  {
   "cell_type": "markdown",
   "id": "3262ba3e",
   "metadata": {},
   "source": [
    "# 科创中心考试答题卡"
   ]
  },
  {
   "cell_type": "markdown",
   "id": "fe9eefed",
   "metadata": {},
   "source": [
    "答卷要求\n",
    "---\n",
    "1.作答形式：以小组形式（3-4人)进行答题。可以随意在互联网寻找相关资料，不可小组之间相互抄袭或找外援。（被发现破坏公平行为直接取消全组成绩作废）前三题为技术题，需要代码实现。最后一题为简答题，也可以进行实现论证，会根据作答情况进行酌情加分。\n",
    "\n",
    "\n",
    "2.提交要求：尽量以ipython文件格式（本文件）于2022年1月10日发送至邮箱2286988225@qq.com（邮件名：科创中心考试答题+小组名（自拟）/个人姓名），完成度在60%以上的团队将对结果进行展示交流。\n",
    "\n",
    "\n",
    "3.卷面要求：将代码在所备注的部分进行填写。可以增加行数，但不要填到别的题的答题范围内。尽量加上注释，卷面可读性会提高小组评分。（以让阅卷人尽量能清晰明了的看懂代码为目的）。\n",
    "\n",
    "\n",
    "3.在填写名字的地方备注上分工如下例子："
   ]
  },
  {
   "cell_type": "markdown",
   "id": "3c1b3a45",
   "metadata": {},
   "source": [
    "信息填写\n",
    "---\n",
    "例：答卷人1姓名：杨雨薇（第一题数据分析，第三题可视化）\n",
    "\n",
    "\n",
    "答卷人1学号：2020****\n",
    "\n",
    "\n",
    "答卷人2姓名：\n",
    "\n",
    "\n",
    "答卷人2学号：\n",
    "\n",
    "\n",
    "答卷人3姓名：\n",
    "\n",
    "\n",
    "答卷人3学号："
   ]
  },
  {
   "cell_type": "markdown",
   "id": "a7cd4c9f",
   "metadata": {},
   "source": [
    "数据说明如下:\n",
    "---\n",
    "数据为x省x市x区x年x月x日-xx年x月x日的处罚事故数据。数据包括报警时间、报警地点等各类警情信息。某大队要根据所给出的数据，对数据进行分析，并根据该数据进行合理的路径规划（也可以根据历史数据进行预测未来一周的路径）。"
   ]
  },
  {
   "cell_type": "markdown",
   "id": "59caa568",
   "metadata": {},
   "source": [
    "第一题：\n",
    "---\n",
    "根据所给出的事故双方的当事人的身份证号，判断其身份证号是否合法，并对身份证号、电话号码进行解析（ id_validator，phonenumber）获取其年龄、户籍、目前通讯地址（电话号码所在地）。通过统计身份证号，以及所给人员的信息，对事故多发人员的户籍地、年龄、居住社区，并进行可视化，对高发事故人员画像。"
   ]
  },
  {
   "cell_type": "code",
   "execution_count": 57,
   "id": "ea753aff",
   "metadata": {},
   "outputs": [],
   "source": [
    "                                                                                                                                                                                                                                                                                                                                                                                                                                                                                                                                                                                                                                                                                                                                                                                                                                                                                                                                                                                                                                                                                                                                                                                                                                                                                                                                                                                                                                                                                                                                                                                                                                                                        ###第一题答案代码"
   ]
  },
  {
   "cell_type": "markdown",
   "id": "c85dff89",
   "metadata": {},
   "source": [
    "第二题：\n",
    "---\n",
    "根据标注地点从地图API获取其具体坐标"
   ]
  },
  {
   "cell_type": "code",
   "execution_count": 58,
   "id": "24feddab",
   "metadata": {},
   "outputs": [],
   "source": [
    "###第二题答案代码"
   ]
  },
  {
   "cell_type": "markdown",
   "id": "9a343e31",
   "metadata": {},
   "source": [
    "第三题：\n",
    "---\n",
    "根据第二题所获取的地理坐标信息，对2020年12月1日的事故处理路线，基于案件的警情以及实际坐标进行合理的路径规划（最好能用可视化方式展现合理的规划方案）。（假设处理每起事故需5分钟）"
   ]
  },
  {
   "cell_type": "code",
   "execution_count": 59,
   "id": "7271aff4",
   "metadata": {},
   "outputs": [],
   "source": [
    "###第三题答案代码"
   ]
  },
  {
   "cell_type": "markdown",
   "id": "23b5b148",
   "metadata": {},
   "source": [
    "第四题：\n",
    "---\n",
    "根据以上所给数据给出你们觉得可行的数据分析方向，方法，以及可行的技术路线，理论依据。（如果实现可加分）"
   ]
  },
  {
   "cell_type": "markdown",
   "id": "45dfccbf",
   "metadata": {},
   "source": [
    "第四题答题区域："
   ]
  },
  {
   "cell_type": "code",
   "execution_count": null,
   "id": "8c9c224f",
   "metadata": {},
   "outputs": [],
   "source": []
  }
 ],
 "metadata": {
  "kernelspec": {
   "display_name": "Python 3 (ipykernel)",
   "language": "python",
   "name": "python3"
  },
  "language_info": {
   "codemirror_mode": {
    "name": "ipython",
    "version": 3
   },
   "file_extension": ".py",
   "mimetype": "text/x-python",
   "name": "python",
   "nbconvert_exporter": "python",
   "pygments_lexer": "ipython3",
   "version": "3.8.5"
  }
 },
 "nbformat": 4,
 "nbformat_minor": 5
}
